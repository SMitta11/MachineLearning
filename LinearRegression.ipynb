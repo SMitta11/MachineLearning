{
 "cells": [
  {
   "cell_type": "code",
   "execution_count": 7,
   "id": "505958d1",
   "metadata": {},
   "outputs": [],
   "source": [
    "import numpy as np\n",
    "import pandas as pd\n",
    "import matplotlib.pyplot as plt\n",
    "from sklearn import datasets\n",
    "from sklearn.datasets import load_iris\n",
    "from sklearn.model_selection import train_test_split\n",
    "plt.rcParams['figure.figsize'] = (3,3)\n"
   ]
  },
  {
   "cell_type": "code",
   "execution_count": 8,
   "id": "8a4c9eee",
   "metadata": {},
   "outputs": [],
   "source": [
    "class LinearRegression:\n",
    "    def __init__(self, batch_size=32, regularization=0, max_epochs=100, patience=3):\n",
    "        \"\"\"Linear Regression using Gradient Descent.\n",
    "        Parameters:\n",
    "        -----------\n",
    "        batch_size: int\n",
    "            The number of samples per batch.\n",
    "        regularization: float\n",
    "            The regularization parameter.\n",
    "        max_epochs: int\n",
    "            The maximum number of epochs.\n",
    "        patience: int\n",
    "            The number of epochs to wait before stopping if the validation loss\n",
    "            does not improve.\n",
    "        \"\"\"\n",
    "        self.batch_size = batch_size\n",
    "        self.regularization = regularization\n",
    "        self.max_epochs = max_epochs\n",
    "        self.patience = patience\n",
    "        self.weights = None\n",
    "        self.bias = None\n",
    "        \n",
    "\n",
    "    def fit(self, X, Y, batch_size=32, regularization=0, max_epochs=100, patience=3,lr = 0.001):\n",
    "        \"\"\"Fit a linear model.\n",
    "        Parameters:\n",
    "        -----------\n",
    "        batch_size: int\n",
    "            The number of samples per batch.\n",
    "        regularization: float\n",
    "            The regularization parameter.\n",
    "        max_epochs: int\n",
    "            The maximum number of epochs.\n",
    "        patience: int\n",
    "            The number of epochs to wait before stopping if the validation loss\n",
    "            does not improve.\n",
    "        \"\"\"\n",
    "        self.batch_size = batch_size\n",
    "        self.regularization = regularization\n",
    "        self.max_epochs = max_epochs\n",
    "        self.patience = patience\n",
    "        self.lr = lr\n",
    "\n",
    "        # TODO: Initialize the weights and bias based on the shape of X and y.\n",
    "        \n",
    "        #split data in training and validation sets\n",
    "        X_train, X_val, Y_train, Y_val = train_test_split(X, Y, test_size=0.1)\n",
    "        \n",
    "        #rows_sample as no. of row(x.shape[0])\n",
    "        #column_sample as no. of columns(x.shape[1])\n",
    "        rows_sample,column_sample = X_train.shape \n",
    "        rows1_sample,column1_sample = Y_train.shape \n",
    "\n",
    "        #create local variables weight and bias\n",
    "        weights = np.random.rand(column_sample,column1_sample)#initialize weight as random based on columns of X and Y train\n",
    "        bias = 0 #bias intialized as 0 above\n",
    "        \n",
    "        #for storing MSE and Steps to plot\n",
    "        arr_mse =[]                      \n",
    "        arr_steps=[]\n",
    "        \n",
    "        # TODO: Implement the training loop.\n",
    "        best_val_loss = float(\"inf\")\n",
    "        count = 0\n",
    "        for j in range(self.max_epochs):\n",
    "            #generate random numbers using numpy of size of sample\n",
    "            random_num = np.random.permutation(rows_sample)\n",
    "            \n",
    "            X_new = X_train[random_num]\n",
    "            Y_new = Y_train[random_num]\n",
    "            \n",
    "            #generate values from 0 to sample size with batch size of 32\n",
    "            for i in range(0, rows_sample, batch_size):\n",
    "                X_batch = X_new[i : i+batch_size]       #taking X batch\n",
    "                Y_batch = Y_new[i : i+batch_size]       #taking Y batch\n",
    "                \n",
    "                #calculate y_pred for each batch on training data\n",
    "                Y_pred = np.dot(X_batch,weights) + bias\n",
    "                \n",
    "                dw = (2/rows_sample) * np.dot(X_batch.T,(Y_pred-Y_batch))\n",
    "                db = (2/rows_sample) * np.sum(Y_pred-Y_batch)\n",
    "                \n",
    "                #Calculate regularization\n",
    "                reg=self.regularization*sum(pow(weights,2))\n",
    "                reg=np.sum(reg)\n",
    "\n",
    "                #update values weight and bias\n",
    "                weights = (weights-self.lr * dw)- reg\n",
    "                bias = bias - self.lr * db - reg\n",
    "                \n",
    "                #Calculate MSE\n",
    "                mse = np.mean( ( Y_batch - Y_pred)**2)\n",
    "                \n",
    "            # Evaluate the loss on the validation set\n",
    "            val_mse = np.mean((Y_val - (np.dot(X_val, weights) + bias)) ** 2)- reg\n",
    "\n",
    "\n",
    "            # Check if the validation loss has improved\n",
    "            if val_mse < best_val_loss:\n",
    "                best_val_loss = val_mse\n",
    "                count = 0\n",
    "            else:\n",
    "                count += 1\n",
    "\n",
    "            # If the loss on the validation set increases for 3 consecutive steps, stop training.\n",
    "            if count == self.patience:\n",
    "                break\n",
    "            \n",
    "            #append values of validation mse and number of steps(j) to list\n",
    "            arr_mse.append(val_mse)\n",
    "            arr_steps.append(j)\n",
    "\n",
    "        self.weights=weights\n",
    "        self.bias=bias\n",
    "\n",
    "        plt.figure(figsize=(7,7))\n",
    "        plt.plot(arr_steps,arr_mse)\n",
    "        plt.scatter(arr_steps, arr_mse)\n",
    "        plt.xlabel(\"Steps\", fontsize=14)\n",
    "        plt.ylabel(\"Loss\", fontsize = 14)\n",
    "        plt.show()\n",
    "        plt.show() \n",
    "\n",
    "    def predict(self, X):\n",
    "        \"\"\"Predict using the linear model.\n",
    "        Parameters\n",
    "        ----------\n",
    "        X: numpy.ndarray\n",
    "            The input data.\n",
    "        \"\"\"\n",
    "        # TODO: Implement the prediction function.\n",
    "        Y_pred = np.dot(X,self.weights)+self.bias\n",
    "        return Y_pred\n",
    "    \n",
    "    def score(self,X,Y):\n",
    "        \"\"\"Evaluate the linear model using the mean squared error.\n",
    "        Parameters\n",
    "        ----------\n",
    "        X: numpy.ndarray\n",
    "            The input data.\n",
    "        y: numpy.ndarray\n",
    "            The target data.\n",
    "        \"\"\"\n",
    "        # TODO: Implement the scoring function.\n",
    "        \n",
    "        Y_pred = self.predict(X)\n",
    "        y_minus= (Y - Y_pred)**2\n",
    "        y_col_sum = y_minus.sum(axis=0)\n",
    "        divider = X.shape[0]*Y.shape[1]\n",
    "        \n",
    "        score = y_col_sum/divider\n",
    "        return score\n",
    "    \n",
    "    \n",
    "    "
   ]
  },
  {
   "cell_type": "code",
   "execution_count": 9,
   "id": "4702ee28",
   "metadata": {},
   "outputs": [],
   "source": [
    "iris = load_iris()\n",
    "iris_dataset = pd.DataFrame(data= np.c_[iris['data'], iris['target']],\n",
    "                     columns= iris['feature_names'] + ['target'])\n",
    "# print(iris_dataset)\n",
    "# model1_data = iris_dataset[[\"sepal length (cm)\", \"sepal width (cm)\", \"petal length (cm)\"]]\n",
    "# X = np.array(model1_data.iloc[:,:-1])\n",
    "# Y = np.array(model1_data.iloc[:,-1])\n",
    "# print(X.shape)\n",
    "# print(Y.shape)"
   ]
  },
  {
   "cell_type": "code",
   "execution_count": 10,
   "id": "7d4c4157",
   "metadata": {},
   "outputs": [],
   "source": [
    "model1_data = iris_dataset[[\"sepal length (cm)\", \"sepal width (cm)\", \"petal length (cm)\"]]\n",
    "X1 = np.array(model1_data.iloc[:,:-1])\n",
    "Y1 = np.array(model1_data.iloc[:,-1])\n",
    "Y1=Y1.reshape(-1,1)\n",
    "\n",
    "X1_train, X1_test, Y1_train, Y1_test = train_test_split(X1, Y1, test_size=0.1, random_state=0)\n"
   ]
  },
  {
   "cell_type": "markdown",
   "id": "67051430",
   "metadata": {},
   "source": [
    "# Plotting Loss vs MSE for sepal length based on sepal width and petal length"
   ]
  },
  {
   "cell_type": "code",
   "execution_count": 12,
   "id": "be4abb53",
   "metadata": {},
   "outputs": [
    {
     "data": {
      "image/png": "[encoded data removed]",
      "text/plain": [
       "<Figure size 504x504 with 1 Axes>"
      ]
     },
     "metadata": {
      "needs_background": "light"
     },
     "output_type": "display_data"
    },
    {
     "name": "stdout",
     "output_type": "stream",
     "text": [
      "MSE =  [2.66677242]\n"
     ]
    }
   ],
   "source": [
    "obj1 = LinearRegression()\n",
    "obj1.fit(X1_train,Y1_train)\n",
    "\n",
    "score1 = obj1.score(X1_test,Y1_test)\n",
    "print(\"MSE = \", score1)\n",
    "\n",
    "\n"
   ]
  },
  {
   "cell_type": "markdown",
   "id": "7e12e1d1",
   "metadata": {},
   "source": [
    "# Plotting Loss vs MSE for sepal length based on sepal width and petal width"
   ]
  },
  {
   "cell_type": "code",
   "execution_count": 13,
   "id": "a4624d89",
   "metadata": {},
   "outputs": [
    {
     "data": {
      "image/png": "[encoded data removed]",
      "text/plain": [
       "<Figure size 504x504 with 1 Axes>"
      ]
     },
     "metadata": {
      "needs_background": "light"
     },
     "output_type": "display_data"
    },
    {
     "name": "stdout",
     "output_type": "stream",
     "text": [
      "MSE =  [0.36943946]\n"
     ]
    }
   ],
   "source": [
    "model2_data = iris_dataset[[\"sepal length (cm)\", \"sepal width (cm)\", \"petal width (cm)\"]]\n",
    "X2 = np.array(model2_data.iloc[:,:-1])\n",
    "Y2 = np.array(model2_data.iloc[:,-1])\n",
    "Y2=Y2.reshape(-1,1)\n",
    "\n",
    "X2_train, X2_test, Y2_train, Y2_test = train_test_split(X2, Y2, test_size=0.1, random_state=0)\n",
    "\n",
    "obj2 = LinearRegression()\n",
    "obj2.fit(X2_train,Y2_train)\n",
    "\n",
    "\n",
    "score2 = obj2.score(X2_test,Y2_test)\n",
    "print(\"MSE = \", score2)\n"
   ]
  },
  {
   "cell_type": "markdown",
   "id": "863b2a00",
   "metadata": {},
   "source": [
    "# Plotting Loss vs MSE for Sepal width based on petal width and length"
   ]
  },
  {
   "cell_type": "code",
   "execution_count": 14,
   "id": "360e1583",
   "metadata": {},
   "outputs": [
    {
     "data": {
      "image/png": "[encoded data removed]",
      "text/plain": [
       "<Figure size 504x504 with 1 Axes>"
      ]
     },
     "metadata": {
      "needs_background": "light"
     },
     "output_type": "display_data"
    },
    {
     "name": "stdout",
     "output_type": "stream",
     "text": [
      "MSE =  [0.1781761]\n"
     ]
    }
   ],
   "source": [
    "model3_data = iris_dataset[[\"sepal width (cm)\", \"petal length (cm)\", \"petal width (cm)\"]]\n",
    "X3 = np.array(model3_data.iloc[:,:-1])\n",
    "Y3 = np.array(model3_data.iloc[:,-1])\n",
    "Y3=Y3.reshape(-1,1)\n",
    "\n",
    "X3_train, X3_test, Y3_train, Y3_test = train_test_split(X3, Y3, test_size=0.1, random_state=0)\n",
    "\n",
    "obj3 = LinearRegression()\n",
    "obj3.fit(X3_train,Y3_train)#petal width based on sepal length and width\n",
    "\n",
    "score3 = obj3.score(X3_test,Y3_test)\n",
    "print(\"MSE = \", score3)\n"
   ]
  },
  {
   "cell_type": "markdown",
   "id": "c56bad09",
   "metadata": {},
   "source": [
    "# Plotting Loss vs MSE for petal width based on petal length and petal length  "
   ]
  },
  {
   "cell_type": "code",
   "execution_count": 15,
   "id": "4604df32",
   "metadata": {},
   "outputs": [
    {
     "data": {
      "image/png": "[encoded data removed]",
      "text/plain": [
       "<Figure size 504x504 with 1 Axes>"
      ]
     },
     "metadata": {
      "needs_background": "light"
     },
     "output_type": "display_data"
    },
    {
     "name": "stdout",
     "output_type": "stream",
     "text": [
      "MSE =  [1.7942102]\n"
     ]
    }
   ],
   "source": [
    "model4_data = iris_dataset[[\"petal width (cm)\", \"petal length (cm)\", \"sepal width (cm)\"]]\n",
    "X4 = np.array(model4_data.iloc[:,:-1])\n",
    "Y4 = np.array(model4_data.iloc[:,-1])\n",
    "Y4=Y4.reshape(-1,1)\n",
    "\n",
    "X4_train, X4_test, Y4_train, Y4_test = train_test_split(X4, Y4, test_size=0.1, random_state=0)\n",
    "\n",
    "obj4 = LinearRegression()\n",
    "obj4.fit(X4_train,Y4_train)#petal width based on sepal length and width\n",
    "\n",
    "score4 = obj4.score(X4_test,Y4_test)\n",
    "print(\"MSE = \", score4)\n"
   ]
  },
  {
   "cell_type": "markdown",
   "id": "1ecdefbd",
   "metadata": {},
   "source": [
    "# Adding L2 regularization on model 4 : petal width based on petal length and petal length"
   ]
  },
  {
   "cell_type": "code",
   "execution_count": 49,
   "id": "e63b3c0c",
   "metadata": {},
   "outputs": [
    {
     "data": {
      "image/png": "[encoded data removed]",
      "text/plain": [
       "<Figure size 504x504 with 1 Axes>"
      ]
     },
     "metadata": {
      "needs_background": "light"
     },
     "output_type": "display_data"
    },
    {
     "name": "stdout",
     "output_type": "stream",
     "text": [
      "MSE =  [1.668126]\n"
     ]
    }
   ],
   "source": [
    "obj5 = LinearRegression()\n",
    "obj5.fit(X4_train, Y4_train,regularization=.000001)#Sepal length based on petal length and petal width\n",
    "\n",
    "score5 = obj5.score(X4_test,Y4_test)\n",
    "print(\"MSE = \", score5)\n"
   ]
  },
  {
   "cell_type": "markdown",
   "id": "d362cad3",
   "metadata": {},
   "source": [
    "# Testing"
   ]
  },
  {
   "cell_type": "code",
   "execution_count": 16,
   "id": "6c128867",
   "metadata": {},
   "outputs": [
    {
     "name": "stdout",
     "output_type": "stream",
     "text": [
      "MSE =  [2.66677242]\n"
     ]
    }
   ],
   "source": [
    "#List to store all scores\n",
    "scores=[]\n",
    "score1 = obj1.score(X1_test,Y1_test)\n",
    "scores.append(score1)\n",
    "print(\"MSE = \", score1)"
   ]
  },
  {
   "cell_type": "code",
   "execution_count": 17,
   "id": "54b5ea28",
   "metadata": {},
   "outputs": [
    {
     "name": "stdout",
     "output_type": "stream",
     "text": [
      "MSE =  [0.36943946]\n"
     ]
    }
   ],
   "source": [
    "score2 = obj2.score(X2_test,Y2_test)\n",
    "scores.append(score2)\n",
    "print(\"MSE = \", score2)\n"
   ]
  },
  {
   "cell_type": "code",
   "execution_count": 18,
   "id": "337a77c5",
   "metadata": {},
   "outputs": [
    {
     "name": "stdout",
     "output_type": "stream",
     "text": [
      "MSE =  [0.1781761]\n"
     ]
    }
   ],
   "source": [
    "score3 = obj3.score(X3_test,Y3_test)\n",
    "scores.append(score3)\n",
    "print(\"MSE = \", score3)\n"
   ]
  },
  {
   "cell_type": "code",
   "execution_count": 19,
   "id": "8db7898a",
   "metadata": {},
   "outputs": [
    {
     "name": "stdout",
     "output_type": "stream",
     "text": [
      "MSE =  [1.7942102]\n"
     ]
    }
   ],
   "source": [
    "score4 = obj4.score(X4_test,Y4_test)\n",
    "scores.append(score4)\n",
    "print(\"MSE = \", score4)"
   ]
  },
  {
   "cell_type": "code",
   "execution_count": 20,
   "id": "92aa5120",
   "metadata": {},
   "outputs": [
    {
     "name": "stdout",
     "output_type": "stream",
     "text": [
      "Minimum MSE =  [0.1781761]\n"
     ]
    }
   ],
   "source": [
    "MSE=min(scores)# whichever has min score that one is more predictive\n",
    "print(\"Minimum MSE = \",MSE)"
   ]
  },
  {
   "cell_type": "markdown",
   "id": "80d31d7f",
   "metadata": {},
   "source": [
    "# Whichever has minimum MSE that feature is more predictive of other."
   ]
  },
  {
   "cell_type": "markdown",
   "id": "250821e6",
   "metadata": {},
   "source": [
    "# Regression with Multiple Outputs"
   ]
  },
  {
   "cell_type": "code",
   "execution_count": 22,
   "id": "8d116f11",
   "metadata": {},
   "outputs": [],
   "source": [
    "import numpy as np\n",
    "import pandas as pd\n",
    "import scipy.io as sio\n",
    "\n",
    "\n",
    "data_path = \"data/traffic_dataset.mat\"\n",
    "\n",
    "# The provided data is given in a `.mat` file.\n",
    "# We can load it using the `scipy.io.loadmat` function.\n",
    "mat = sio.loadmat(data_path)\n",
    "input_train = mat['tra_X_tr']\n",
    "output_train = mat['tra_Y_tr'].T\n",
    "input_test = mat['tra_X_te']\n",
    "output_test = mat['tra_Y_te'].T\n",
    "adj_mat = mat['tra_adj_mat']\n",
    "\n",
    "input_train = input_train.squeeze()\n",
    "input_test = input_test.squeeze()\n",
    "\n",
    "# Convert the sparse matrix to a dense matrix\n",
    "data = []\n",
    "test_data = []\n",
    "\n",
    "for i in range(input_train.shape[0]):\n",
    "    data.append(input_train[i].todense())\n",
    "\n",
    "for i in range(input_test.shape[0]):\n",
    "    test_data.append(input_test[i].todense())\n",
    "\n",
    "# Convert the data to a numpy array\n",
    "data = np.array(data)\n",
    "test_data = np.array(test_data)\n",
    "\n",
    "samples,x,y = data.shape\n",
    "#reshape input train data\n",
    "data = data.reshape((samples,x*y))\n",
    "\n",
    "samples,x,y = test_data.shape\n",
    "#reshape test_data\n",
    "test_data = test_data.reshape((samples,x*y))"
   ]
  },
  {
   "cell_type": "markdown",
   "id": "68a8f009",
   "metadata": {},
   "source": [
    "# Training of regression for multiple outputs"
   ]
  },
  {
   "cell_type": "code",
   "execution_count": 24,
   "id": "26c73cf5",
   "metadata": {},
   "outputs": [
    {
     "data": {
      "image/png": "[encoded data removed]",
      "text/plain": [
       "<Figure size 504x504 with 1 Axes>"
      ]
     },
     "metadata": {
      "needs_background": "light"
     },
     "output_type": "display_data"
    },
    {
     "name": "stdout",
     "output_type": "stream",
     "text": [
      "MSE =  [0.44812839 0.42254086 0.40508598 0.41103524 0.42033779 0.46455794\n",
      " 0.40257852 0.45892601 0.42054378 0.43795545 0.34167686 0.43304106\n",
      " 0.45200912 0.39295006 0.47105386 0.35556572 0.42292334 0.43932748\n",
      " 0.40355699 0.42907181 0.39363604 0.42263115 0.4231484  0.37981656\n",
      " 0.43112027 0.403713   0.46746149 0.38191706 0.47959228 0.55655728\n",
      " 0.40553733 0.37074874 0.36457737 0.41021786 0.43072027 0.33923451]\n"
     ]
    }
   ],
   "source": [
    "model_multi = LinearRegression()\n",
    "model_multi.fit(data,output_train,batch_size=128,regularization=1e-10)\n",
    "\n",
    "score_multi = model_multi.score(test_data,output_test)\n",
    "print(\"MSE = \", score_multi)"
   ]
  },
  {
   "cell_type": "markdown",
   "id": "a00e1970",
   "metadata": {},
   "source": [
    "# Testing of regression with multiple outputs"
   ]
  },
  {
   "cell_type": "code",
   "execution_count": 26,
   "id": "8b924007",
   "metadata": {},
   "outputs": [
    {
     "name": "stdout",
     "output_type": "stream",
     "text": [
      "MSE =  [0.44812839 0.42254086 0.40508598 0.41103524 0.42033779 0.46455794\n",
      " 0.40257852 0.45892601 0.42054378 0.43795545 0.34167686 0.43304106\n",
      " 0.45200912 0.39295006 0.47105386 0.35556572 0.42292334 0.43932748\n",
      " 0.40355699 0.42907181 0.39363604 0.42263115 0.4231484  0.37981656\n",
      " 0.43112027 0.403713   0.46746149 0.38191706 0.47959228 0.55655728\n",
      " 0.40553733 0.37074874 0.36457737 0.41021786 0.43072027 0.33923451]\n"
     ]
    }
   ],
   "source": [
    "score_multi = model_multi.score(test_data,output_test)\n",
    "print(\"MSE = \", score_multi)"
   ]
  },
  {
   "cell_type": "code",
   "execution_count": null,
   "id": "b45cc13d",
   "metadata": {},
   "outputs": [],
   "source": []
  }
 ],
 "metadata": {
  "kernelspec": {
   "display_name": "Python 3",
   "language": "python",
   "name": "python3"
  },
  "language_info": {
   "codemirror_mode": {
    "name": "ipython",
    "version": 3
   },
   "file_extension": ".py",
   "mimetype": "text/x-python",
   "name": "python",
   "nbconvert_exporter": "python",
   "pygments_lexer": "ipython3",
   "version": "3.11.2 (main, Feb 16 2023, 03:15:23) [Clang 14.0.0 (clang-1400.0.29.202)]"
  },
  "vscode": {
   "interpreter": {
    "hash": "aee8b7b246df8f9039afb4144a1f6fd8d2ca17a180786b69acc140d282b71a49"
   }
  }
 },
 "nbformat": 4,
 "nbformat_minor": 5
}
