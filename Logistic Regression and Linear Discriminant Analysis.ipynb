{
 "cells": [
  {
   "cell_type": "code",
   "execution_count": 22,
   "id": "f11bb915",
   "metadata": {},
   "outputs": [],
   "source": [
    "import pandas as pd\n",
    "import numpy as np\n",
    "import matplotlib.pyplot as plt\n",
    "from sklearn import datasets\n",
    "from sklearn.model_selection import train_test_split\n",
    "from scipy.stats import multivariate_normal\n",
    "from scipy.special import softmax\n",
    "from sklearn.datasets import load_iris\n",
    "#from mlxtend.data import iris_data\n",
    "from sklearn.preprocessing import OneHotEncoder\n",
    "\n",
    "#from mlxtend.plotting.decision_regions import plot_decision_regions\n",
    "from mlxtend.data import iris_data\n",
    "from mlxtend.plotting import plot_decision_regions\n",
    "\n",
    "# %matplotlib inline\n",
    "# %matplotlib widget"
   ]
  },
  {
   "cell_type": "markdown",
   "id": "3a2957d8",
   "metadata": {},
   "source": [
    "# Load IRIS DATA"
   ]
  },
  {
   "cell_type": "code",
   "execution_count": 23,
   "id": "a4ffb450",
   "metadata": {},
   "outputs": [],
   "source": [
    "iris = load_iris()\n",
    "iris_dataset = pd.DataFrame(data= np.c_[iris['data'], iris['target']],\n",
    "                     columns= iris['feature_names'] + ['target'])\n",
    "\n",
    "X = iris.data\n",
    "y = iris.target\n"
   ]
  },
  {
   "cell_type": "markdown",
   "id": "03863662",
   "metadata": {},
   "source": [
    "# Logistic Regression class -Fit predict and accuracy methods"
   ]
  },
  {
   "cell_type": "code",
   "execution_count": 24,
   "id": "7e27fcfc",
   "metadata": {},
   "outputs": [],
   "source": [
    "\n",
    "class LogisticRegression:\n",
    "    def __init__(self, batch_size=32, regularization=0, max_epochs=1000):\n",
    "        \"\"\"Linear Regression using Gradient Descent.\n",
    "        Parameters:\n",
    "        -----------\n",
    "        batch_size: int\n",
    "            The number of samples per batch.\n",
    "        regularization: float\n",
    "            The regularization parameter.\n",
    "        max_epochs: int\n",
    "            The maximum number of epochs.\n",
    "        patience: int\n",
    "            The number of epochs to wait before stopping if the validation loss\n",
    "            does not improve.\n",
    "        \"\"\"\n",
    "        self.batch_size = batch_size\n",
    "        self.regularization = regularization\n",
    "        self.max_epochs = max_epochs\n",
    "        self.weights = None\n",
    "        self.bias = None\n",
    "    def cross_entropy(self,pred,target):\n",
    "        return - target * np.log(pred)\n",
    "    def fit(self, X, y, batch_size=32, regularization=0, max_epochs=1000,lr = 0.001):\n",
    "    \n",
    "        self.batch_size = batch_size\n",
    "        self.regularization = regularization\n",
    "        self.max_epochs = max_epochs\n",
    "        self.lr = lr\n",
    "    \n",
    "        \n",
    "        rows_sample,column_sample = X.shape\n",
    "        num_classes = np.max(y, axis=0) + 1 #number of classes=3\n",
    "        #print(column_sample,num_classes)\n",
    "        \n",
    "        weights = np.random.rand(column_sample,num_classes)\n",
    "        bias = np.random.rand(1,num_classes)\n",
    "        #bias = 1\n",
    "\n",
    "        \n",
    "        for j in range(self.max_epochs):\n",
    "            \n",
    "            random_num = np.random.permutation(rows_sample)\n",
    "            X_new = X[random_num]\n",
    "            y_new = y[random_num]\n",
    "            \n",
    "            for i in range(0, rows_sample, batch_size):\n",
    "                X_batch = X_new[i : i+batch_size]       #taking X batch\n",
    "                y_batch = y_new[i : i+batch_size]       #taking Y batch\n",
    "\n",
    "                y_batch = np.eye(num_classes)[y_batch] #one hot encoding on y_batch data\n",
    "            \n",
    "                \n",
    "                #take dot product of X_batch data and weights\n",
    "                linear_pred = np.dot(X_batch,weights) + bias\n",
    "           \n",
    "                #Apply Softmax \n",
    "                y_pred = self.softmax(linear_pred)\n",
    "                err = (y_pred - y_batch)\n",
    "                dw = (1/X_batch.shape[0]) * np.dot(X_batch.T,err)\n",
    "                db = (1/X_batch.shape[0]) * np.sum(err, axis=0, keepdims=True)\n",
    "                \n",
    "                #Update weights\n",
    "                weights = weights - (self.lr * dw)\n",
    "                bias =  bias - self.lr * db\n",
    "\n",
    "        #Training completed,update weight & bias values    \n",
    "        self.weights = weights\n",
    "        self.bias = bias\n",
    "\n",
    "    def predict(self,X):\n",
    "        linear_pred = np.dot(X,self.weights)+self.bias\n",
    "        #apply softmax and take max value index\n",
    "        y_pred = self.softmax(linear_pred)\n",
    "        y_pred = np.argmax(np.array((y_pred)), axis=1)\n",
    "        return y_pred\n",
    "    \n",
    "    def accuracy(self,y_pred,y_test):\n",
    "        return np.array((np.mean(y_pred == y_test)))*100\n",
    "        \n",
    "    def softmax(self, z):\n",
    "        exp_z = np.exp(z - np.max(z, axis=1, keepdims=True))\n",
    "        return exp_z / np.sum(exp_z, axis=1, keepdims=True)\n",
    "        \n",
    "        "
   ]
  },
  {
   "cell_type": "markdown",
   "id": "e43b5e70",
   "metadata": {},
   "source": [
    "# Split the dataset into training and testing sets"
   ]
  },
  {
   "cell_type": "code",
   "execution_count": 25,
   "id": "77deb1e3",
   "metadata": {},
   "outputs": [],
   "source": [
    "X_train, X_test, y_train, y_test = train_test_split(X, y, test_size=0.1,random_state = 1)\n"
   ]
  },
  {
   "cell_type": "markdown",
   "id": "1e5e6ffc",
   "metadata": {},
   "source": [
    "# Train model and calculate accuracy for all features"
   ]
  },
  {
   "cell_type": "code",
   "execution_count": 26,
   "id": "088c6b9b",
   "metadata": {},
   "outputs": [],
   "source": [
    "#Store all logistic regression accuracy results in dictionary\n",
    "LR_dict={}\n",
    "\n",
    "lr1 = LogisticRegression()\n",
    "\n",
    "#Call fit method\n",
    "lr1.fit(X_train, y_train)"
   ]
  },
  {
   "cell_type": "code",
   "execution_count": 27,
   "id": "a035a095",
   "metadata": {},
   "outputs": [
    {
     "name": "stdout",
     "output_type": "stream",
     "text": [
      "Accuracy all features Logistic Regression: 86.67 %\n"
     ]
    }
   ],
   "source": [
    "#Call predict method\n",
    "predict = lr1.predict(X_test)\n",
    "\n",
    "#call accuracy method\n",
    "acc = lr1.accuracy(predict,y_test)\n",
    "\n",
    "\n",
    "print(\"Accuracy all features Logistic Regression:\",round(acc,2),\"%\")\n",
    "LR_dict[\"Accuracy all features Logistic Regression:\"] = round(acc,2)\n",
    "#print(LR_dict)"
   ]
  },
  {
   "cell_type": "markdown",
   "id": "545d57fc",
   "metadata": {},
   "source": [
    "# Train model,calculate accuracy and plot for Petal length and width"
   ]
  },
  {
   "cell_type": "code",
   "execution_count": 28,
   "id": "7f1cd2c2",
   "metadata": {},
   "outputs": [],
   "source": [
    "lr2 = LogisticRegression()\n",
    "\n",
    "#print(X_train.shape)\n",
    "#print(X_train[:,2:].shape)\n",
    "\n",
    "#call fit method\n",
    "lr2.fit(X_train[:,2:], y_train)"
   ]
  },
  {
   "cell_type": "code",
   "execution_count": 35,
   "id": "573737ff",
   "metadata": {},
   "outputs": [
    {
     "name": "stdout",
     "output_type": "stream",
     "text": [
      "Accuracy Petal length and width Logistic Regression: 60.0 %\n"
     ]
    },
    {
     "data": {
      "image/png": "[encoded data removed]",
      "text/plain": [
       "<Figure size 432x288 with 1 Axes>"
      ]
     },
     "metadata": {
      "needs_background": "light"
     },
     "output_type": "display_data"
    }
   ],
   "source": [
    "\n",
    "#call predict method\n",
    "y_pred = lr2.predict(X_test[:,2:])\n",
    "\n",
    "#call accuracy method\n",
    "acc1 = lr2.accuracy(y_pred,y_test)\n",
    "print(\"Accuracy Petal length and width Logistic Regression:\",round(acc1,2),\"%\")\n",
    "LR_dict[\"Accuracy Petal length and width Logistic Regression:\"] = round(acc1,2)\n",
    "#print(LR_dict)\n",
    "\n",
    "clf=lr2\n",
    "\n",
    "plot_decision_regions(X_test[:,2:], y_test, clf=clf)\n",
    "plt.show()"
   ]
  },
  {
   "cell_type": "markdown",
   "id": "547eadc4",
   "metadata": {},
   "source": [
    "# Train model,calculate accuracy and plot for Sepal length and width"
   ]
  },
  {
   "cell_type": "code",
   "execution_count": 45,
   "id": "91ad52ab",
   "metadata": {},
   "outputs": [],
   "source": [
    "lr4 = LogisticRegression()\n",
    "\n",
    "\n",
    "#Call fit method\n",
    "#sepal length and width\n",
    "lr4.fit(X_train[:,0:2], y_train)"
   ]
  },
  {
   "cell_type": "code",
   "execution_count": 46,
   "id": "564d76bb",
   "metadata": {},
   "outputs": [
    {
     "name": "stdout",
     "output_type": "stream",
     "text": [
      "Accuracy predicting sepal length and width Logistic Regression: 66.67\n"
     ]
    },
    {
     "data": {
      "image/png": "[encoded data removed]",
      "text/plain": [
       "<Figure size 432x288 with 1 Axes>"
      ]
     },
     "metadata": {
      "needs_background": "light"
     },
     "output_type": "display_data"
    }
   ],
   "source": [
    "\n",
    "\n",
    "#Call predict method\n",
    "predict = lr4.predict(X_test[:,0:2])\n",
    "\n",
    "#Call accuracy method\n",
    "acc2 = lr4.accuracy(predict,y_test)\n",
    "print(\"Accuracy predicting sepal length and width Logistic Regression:\",round(acc2,2))\n",
    "LR_dict[\"Accuracy predicting sepal length and width Logistic Regression:\"] = round(acc2,2)\n",
    "\n",
    "#Plot decision regions\n",
    "clf=lr4\n",
    "plot_decision_regions(X_test[:,0:2], y_test, clf=clf)\n",
    "plt.show()"
   ]
  },
  {
   "cell_type": "markdown",
   "id": "aa3f1f9b",
   "metadata": {},
   "source": [
    "# Linear discriminant analysis"
   ]
  },
  {
   "cell_type": "code",
   "execution_count": 47,
   "id": "67857fc7",
   "metadata": {},
   "outputs": [],
   "source": [
    "def encodeTarget(y, num_classes1):                                   \n",
    "    #getting targets one hot encoded\n",
    "    result = np.eye(num_classes1)[np.array(y).reshape(-1)]\n",
    "    return result.reshape(list(y.shape)+[num_classes1])\n",
    "\n",
    "\n",
    "class LinearDiscriminantClass:                                                \n",
    "    def fit(self, X, y):                                       \n",
    "        all_classes = np.max(y, axis=0) + 1 \n",
    "        #adding 1s\n",
    "        X = np.concatenate((np.ones((X.shape[0], 1)), X), axis=-1)  \n",
    "        y = encodeTarget(y, all_classes)\n",
    "        \n",
    "        self.weights = np.linalg.inv(X.T @ X) @ X.T @ y    \n",
    "        #print(self.weights)\n",
    "        \n",
    "    def predict(self, x):\n",
    "        \n",
    "        # Adding constant for bias \n",
    "        x = np.concatenate((np.ones((x.shape[0], 1)), x), axis=-1)     \n",
    "        return np.argmax(self.weights.T @ x.T, axis=0)\n",
    "    def calculateMSE(self,X,y):\n",
    "        return np.sum(np.abs(self.predict(X) - y))\n",
    "    def accuracy(self,y,MSE):\n",
    "        return round((((len(y) - (MSE ))/ len(y))*100),2)"
   ]
  },
  {
   "cell_type": "code",
   "execution_count": 48,
   "id": "1b591c0e",
   "metadata": {},
   "outputs": [],
   "source": [
    "X_train, X_test, y_train, y_test = train_test_split(X, y, test_size=0.1, random_state = 1)"
   ]
  },
  {
   "cell_type": "markdown",
   "id": "49a92392",
   "metadata": {},
   "source": [
    "# Train LDA model and calculate accuracy for sepal length and width"
   ]
  },
  {
   "cell_type": "code",
   "execution_count": 49,
   "id": "a7327222",
   "metadata": {},
   "outputs": [
    {
     "name": "stdout",
     "output_type": "stream",
     "text": [
      "Accuracy sepal length and width LDA 73.33\n"
     ]
    },
    {
     "data": {
      "image/png": "[encoded data removed]",
      "text/plain": [
       "<Figure size 432x288 with 1 Axes>"
      ]
     },
     "metadata": {
      "needs_background": "light"
     },
     "output_type": "display_data"
    }
   ],
   "source": [
    "#Store all logistic regression accuracy results in dictionary\n",
    "LDA_dict={}\n",
    "ld1 = LinearDiscriminantClass()\n",
    "\n",
    "ld1.fit(X_train[:,0:2], y_train)\n",
    "MSE = ld1.calculateMSE(X_test[:,0:2],y_test)\n",
    "accuracy = ld1.accuracy(y_test,MSE)\n",
    "print(\"Accuracy sepal length and width LDA\", accuracy)\n",
    "\n",
    "clf=ld1\n",
    "plot_decision_regions(X_test[:,0:2], y_test, clf=clf)\n",
    "plt.show()\n",
    "\n",
    "LDA_dict[\"Accuracy Sepal length and width LDA:\"] = accuracy"
   ]
  },
  {
   "cell_type": "markdown",
   "id": "12e80b23",
   "metadata": {},
   "source": [
    "# Train LDA model and calculate accuracy for petal length and width and plot"
   ]
  },
  {
   "cell_type": "code",
   "execution_count": 50,
   "id": "2230b36b",
   "metadata": {},
   "outputs": [
    {
     "name": "stdout",
     "output_type": "stream",
     "text": [
      "Accuracy petal length and width LDA 60.0\n"
     ]
    },
    {
     "data": {
      "image/png": "[encoded data removed]",
      "text/plain": [
       "<Figure size 432x288 with 1 Axes>"
      ]
     },
     "metadata": {
      "needs_background": "light"
     },
     "output_type": "display_data"
    }
   ],
   "source": [
    "ld2 = LinearDiscriminantClass()\n",
    "ld2.fit(X_train[:,2:], y_train)\n",
    "\n",
    "MSE = ld2.calculateMSE(X_test[:,2:],y_test)\n",
    "accuracy = ld2.accuracy(y_test,MSE)\n",
    "print(\"Accuracy petal length and width LDA\", accuracy)\n",
    "\n",
    "clf=ld2\n",
    "plot_decision_regions(X_test[:,2:], y_test, clf=clf)\n",
    "plt.show()\n",
    "\n",
    "LDA_dict[\"Accuracy Petal length and width LDA:\"] = accuracy"
   ]
  },
  {
   "cell_type": "markdown",
   "id": "891856fd",
   "metadata": {},
   "source": [
    "# Train LDA model and calculate accuracy all features"
   ]
  },
  {
   "cell_type": "code",
   "execution_count": 51,
   "id": "d28602d0",
   "metadata": {},
   "outputs": [
    {
     "name": "stdout",
     "output_type": "stream",
     "text": [
      "Accuracy of all features LDA 73.33\n"
     ]
    }
   ],
   "source": [
    "ld3 = LinearDiscriminantClass()\n",
    "ld3.fit(X_train, y_train)\n",
    "\n",
    "\n",
    "MSE = ld3.calculateMSE(X_test,y_test)\n",
    "accuracy = ld3.accuracy(y_test,MSE)\n",
    "\n",
    "print(\"Accuracy of all features LDA\", accuracy)\n",
    "LDA_dict[\"Accuracy of all features:\"] = accuracy"
   ]
  },
  {
   "cell_type": "markdown",
   "id": "191158be",
   "metadata": {},
   "source": [
    "# Logistic Regression vs LDA accuracies Comparisons"
   ]
  },
  {
   "cell_type": "code",
   "execution_count": 52,
   "id": "90c83320",
   "metadata": {},
   "outputs": [
    {
     "name": "stdout",
     "output_type": "stream",
     "text": [
      "Accuracies with Logistic Regression:\n",
      "{'Accuracy all features Logistic Regression:': 86.67, 'Accuracy Petal length and width Logistic Regression:': 60.0, 'Accuracy predicting sepal length and width Logistic Regression:': 66.67}\n",
      "    vs    \n",
      "Accuracies with Linear Discriminant:\n",
      "{'Accuracy Sepal length and width LDA:': 73.33, 'Accuracy Petal length and width LDA:': 60.0, 'Accuracy of all features:': 73.33}\n"
     ]
    }
   ],
   "source": [
    "#print the accuracy results stored in both dictionaries\n",
    "print(\"Accuracies with Logistic Regression:\")\n",
    "print(LR_dict) \n",
    "print(\"    vs    \")\n",
    "print(\"Accuracies with Linear Discriminant:\")\n",
    "print(LDA_dict)"
   ]
  },
  {
   "cell_type": "code",
   "execution_count": null,
   "id": "5cbec093",
   "metadata": {},
   "outputs": [],
   "source": []
  }
 ],
 "metadata": {
  "kernelspec": {
   "display_name": "Python 3 (ipykernel)",
   "language": "python",
   "name": "python3"
  },
  "language_info": {
   "codemirror_mode": {
    "name": "ipython",
    "version": 3
   },
   "file_extension": ".py",
   "mimetype": "text/x-python",
   "name": "python",
   "nbconvert_exporter": "python",
   "pygments_lexer": "ipython3",
   "version": "3.9.12"
  }
 },
 "nbformat": 4,
 "nbformat_minor": 5
}
