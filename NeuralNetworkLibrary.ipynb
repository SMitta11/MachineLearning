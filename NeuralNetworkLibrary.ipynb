{
  "cells": [
    {
      "cell_type": "code",
      "execution_count": 106,
      "metadata": {
        "id": "Dnyop_Bhpv0S"
      },
      "outputs": [],
      "source": [
        "import numpy as np\n",
        "import pickle\n",
        "import matplotlib.pyplot as plt\n",
        "from sklearn.metrics import accuracy_score\n",
        "import json\n",
        "class Layer():\n",
        "  def __init__(self):\n",
        "    pass\n",
        "  def forward(self):\n",
        "    pass\n",
        "  def backward(self):\n",
        "    pass"
      ]
    },
    {
      "cell_type": "markdown",
      "metadata": {
        "id": "nbd4STI4qeZ_"
      },
      "source": [
        "Linear Layer"
      ]
    },
    {
      "cell_type": "code",
      "execution_count": 107,
      "metadata": {
        "id": "0tF-LJk5qmJo"
      },
      "outputs": [],
      "source": [
        "class Linear(Layer):\n",
        "  def __init__(self,features_in,features_out):\n",
        "    self.weights = np.random.randn(features_in,features_out) * np.sqrt(2/features_in)\n",
        "    self.bias = 0.001 * np.random.randn(1,features_out)\n",
        "   \n",
        "\n",
        "  def forward(self,X):\n",
        "    self.input = X\n",
        "    self.Y_pred = np.dot(X,self.weights) + self.bias\n",
        "    return self.Y_pred\n",
        "\n",
        "  def backward(self,grad,alpha):\n",
        "    grad_input = np.dot(grad,self.weights.T)\n",
        "    grad_weights = np.dot(self.input.T,grad)\n",
        "    grad_bias = np.sum(grad, axis=0, keepdims=True)\n",
        "\n",
        "    self.weights = (self.weights - alpha  * grad_weights)\n",
        "    self.bias = (self.bias - alpha  * grad_bias)\n",
        "    return grad_input\n",
        "  \n",
        "  def get_weights(self):\n",
        "        return self.weights\n",
        "\n",
        "  def get_bias(self):\n",
        "        return self.bias\n",
        "\n",
        "  def set_weights(self,w):\n",
        "      self.weights = w\n",
        "\n",
        "  def set_bias(self,b):\n",
        "      self.bias = b"
      ]
    },
    {
      "cell_type": "markdown",
      "metadata": {
        "id": "dEhzSSJesdKW"
      },
      "source": [
        "Sigmoid Function"
      ]
    },
    {
      "cell_type": "code",
      "execution_count": 108,
      "metadata": {
        "id": "CboJxrZKsgpQ"
      },
      "outputs": [],
      "source": [
        "class Sigmoid(Layer):\n",
        "  def __init__(self):\n",
        "    pass\n",
        "\n",
        "  def forward(self,data):\n",
        "    data = np.clip(data, -400 ,400)\n",
        "    self.Y_pred = 1/(1+np.exp(-data))\n",
        "    return self.Y_pred\n",
        "\n",
        "  def backward(self,grad,alpha):\n",
        "    return grad * self.Y_pred *(1-self.Y_pred)#here derivative of sigmoid is self.output *(1-self.output) "
      ]
    },
    {
      "cell_type": "markdown",
      "metadata": {
        "id": "4EtrSNDDAH6C"
      },
      "source": [
        "HyperbolicTangentFunction\n"
      ]
    },
    {
      "cell_type": "code",
      "execution_count": 109,
      "metadata": {
        "id": "kNfQ8xk_ANgE"
      },
      "outputs": [],
      "source": [
        "class HyperbolicTan(Layer):\n",
        "  def __init__(self):\n",
        "     self.Y_pred = None\n",
        "    \n",
        "    \n",
        "  def forward(self,data):\n",
        "    self.Y_pred = np.tanh(data)\n",
        "    return self.Y_pred\n",
        "\n",
        "  def backward(self,grad,alpha):\n",
        "    tanh_derivative = 1 - self.Y_pred**2\n",
        "    self.grad_tanh = tanh_derivative * grad\n",
        "    return self.grad_tanh\n"
      ]
    },
    {
      "cell_type": "markdown",
      "metadata": {
        "id": "5aoaw2YYDuhf"
      },
      "source": [
        "Softmax function"
      ]
    },
    {
      "cell_type": "code",
      "execution_count": 110,
      "metadata": {
        "id": "sYK7ZPxkD12B"
      },
      "outputs": [],
      "source": [
        "class Softmax(Layer):\n",
        "  def __init__(self):\n",
        "    self.Y_pred =None\n",
        "\n",
        "  def forward(self,X):\n",
        "    num = np.exp(X - np.max(X))\n",
        "    self.Y_pred_softmax = num / np.sum(num, axis=0, keepdims=True)\n",
        "    return self.Y_pred_softmax\n",
        "\n",
        "  def backward(self,grad,alpha):\n",
        "    grad_output = grad * self.Y_pred_softmax * (1 - self.Y_pred_softmax)\n",
        "    return grad_output\n",
        "    "
      ]
    },
    {
      "cell_type": "markdown",
      "metadata": {
        "id": "Zc_d5E5mIXu9"
      },
      "source": [
        "Cross Entropy Loss"
      ]
    },
    {
      "cell_type": "code",
      "execution_count": 111,
      "metadata": {
        "id": "P1YWZ0TjADMm"
      },
      "outputs": [],
      "source": [
        "#binary cross entropy loss\n",
        "class CrossEntropyLoss(Layer):\n",
        "    def __init__(self):\n",
        "        self.eps = 1e-15\n",
        "\n",
        "    def forward(self, Y, Y_pred):\n",
        "        self.Y = Y\n",
        "        self.Y_pred = np.clip(Y_pred, 1e-7, 1 - 1e-7)\n",
        "        self.loss = -np.mean(Y * np.log(self.Y_pred) + (1 - Y) * np.log(1 - self.Y_pred))\n",
        "        return self.loss\n",
        "\n",
        "    def backward(self,alpha):\n",
        "      self.loss_backward = (self.Y_pred - self.Y) / (self.Y_pred * (1 - self.Y_pred) + 1e-7)\n",
        "      return self.loss_backward\n"
      ]
    },
    {
      "cell_type": "markdown",
      "metadata": {
        "id": "nuUMZGSMJfbq"
      },
      "source": [
        "Sequential class"
      ]
    },
    {
      "cell_type": "code",
      "execution_count": 112,
      "metadata": {
        "id": "PZrYde_QJg_7"
      },
      "outputs": [],
      "source": [
        "\n",
        "class Sequential(Layer):\n",
        "  def __init__(self,layers):\n",
        "    self.layers = layers\n",
        "  \n",
        "  def forward(self,data):\n",
        "    self.out = data\n",
        "    for l in self.layers:\n",
        "      self.out = l.forward(self.out)\n",
        "\n",
        "    return self.out\n",
        "\n",
        "  def backward(self,grad,alpha):\n",
        "    self.grad_in = grad\n",
        "    for i in reversed(self.layers):\n",
        "      self.grad_in = i.backward(self.grad_in,alpha)\n",
        "    return self.grad_in\n",
        "\n",
        "  def save_weights(self):\n",
        "    i = 0\n",
        "    w = {}\n",
        "    b = {}\n",
        "    for layer in self.layers:\n",
        "      if isinstance(layer, Linear):\n",
        "        w[i] = layer.get_weights()\n",
        "        b[i] = layer.get_bias()\n",
        "        i+=1\n",
        "    for key in w:\n",
        "      w[key] = w[key].tolist()\n",
        "    for key in b:\n",
        "      b[key] = b[key].tolist()\n",
        "    with open(\"weight.json\", \"w\") as json_file:\n",
        "      json.dump(w, json_file)\n",
        "    with open(\"bias.json\", \"w\") as json_file:\n",
        "      json.dump(b, json_file)\n",
        "\n",
        "  def load_weights(self):\n",
        "    \n",
        "    with open('weight.json', 'r') as f:\n",
        "        w = json.load(f)    \n",
        "    with open('bias.json', 'r') as f:\n",
        "        b = json.load(f)    \n",
        "    i = 0\n",
        "    for key in w:\n",
        "      w[key] = np.array(w[key])\n",
        "    for key in b:\n",
        "      b[key] = np.array(b[key])\n",
        "    \n",
        "    \n",
        "    for layer in self.layers:\n",
        "      if isinstance(layer, Linear):\n",
        "        \n",
        "        layer.set_weights(w[str(i)])\n",
        "        layer.set_bias(b[str(i)])\n",
        "        i+=1\n",
        "      \n"
      ]
    },
    {
      "cell_type": "code",
      "execution_count": 113,
      "metadata": {},
      "outputs": [],
      "source": [
        "#Define model for xor using sigmoid activation function"
      ]
    },
    {
      "cell_type": "code",
      "execution_count": 114,
      "metadata": {},
      "outputs": [],
      "source": [
        "linear1 = Linear(2,2)\n",
        "sigmoid1 = Sigmoid()\n",
        "linear2 = Linear(2,1)\n",
        "sigmoid2 = Sigmoid()\n",
        "HyperbolicTan1 = HyperbolicTan()\n",
        "HyperbolicTan2 = HyperbolicTan()\n",
        "model1 = Sequential([linear1,sigmoid1,linear2,sigmoid2])"
      ]
    },
    {
      "cell_type": "markdown",
      "metadata": {
        "id": "9ExH9NFrjPAD"
      },
      "source": [
        "Train XOR model using Sigmoid activation"
      ]
    },
    {
      "cell_type": "code",
      "execution_count": 115,
      "metadata": {
        "id": "Gk9k-OOTHlTJ"
      },
      "outputs": [],
      "source": [
        "# Train the model using sigmoid  activation\n",
        "\n",
        "X_train = np.array([[0, 0],[0, 0],[0, 0], [0, 1],[0, 1],[0, 1], [1, 0], [1, 1], [1, 1], [1, 1],[1, 1],[1, 1]])\n",
        "Y_train = np.array([[0], [0], [0], [1], [1], [1], [1], [0], [0], [0],[0],[0]])\n",
        "alpha = 0.01\n",
        "\n",
        "loss_fn = CrossEntropyLoss()\n",
        "epochs = 10000\n",
        "l_loss = []\n",
        "for epoch in range(epochs):\n",
        "    # Forward pass\n",
        "    output = model1.forward(X_train)\n",
        "    loss = loss_fn.forward(Y_train,output)#loss in forward pass using cross entropy loss\n",
        "    l_loss.append(loss)\n",
        "    \n",
        "    # Backward pass\n",
        "    grad_output = loss_fn.backward(alpha)# gradient in backward pass using cross entropy\n",
        "    model1.backward(grad_output,alpha)"
      ]
    },
    {
      "cell_type": "code",
      "execution_count": 116,
      "metadata": {
        "id": "6qQxXDsEN8Zo"
      },
      "outputs": [],
      "source": [
        "# save the model weights in weight.json file and bias.json\n",
        "model1.save_weights()"
      ]
    },
    {
      "cell_type": "code",
      "execution_count": 117,
      "metadata": {
        "id": "l0uVzHTgOBIh"
      },
      "outputs": [],
      "source": [
        "#load the updated weights and bias saved in file\n",
        "model1.load_weights()"
      ]
    },
    {
      "cell_type": "code",
      "execution_count": 118,
      "metadata": {
        "colab": {
          "base_uri": "https://localhost:8080/"
        },
        "id": "6FxuGjAd_rkd",
        "outputId": "64ef4b2a-f10e-454f-8587-2f0c4b904f4f"
      },
      "outputs": [
        {
          "name": "stdout",
          "output_type": "stream",
          "text": [
            "Accuracy for XOR using sigmoid: 100.0 % \n"
          ]
        }
      ],
      "source": [
        "#for prediction without running the training data again we can run this using saved and updated weights\n",
        "X_train1 = np.array([[0, 0], [0, 1], [1, 0], [1, 1]])#4*2\n",
        "Y_train1 = np.array([[0], [1], [1], [0]])#4*1\n",
        "\n",
        "# Verify the model\n",
        "Y_pred = model1.forward(X_train1)\n",
        "Y_pred = np.round(Y_pred).flatten()\n",
        "accuracy_sigmoid = accuracy_score(Y_train1, Y_pred)\n",
        "\n",
        "print(f\"Accuracy for XOR using sigmoid: {accuracy_sigmoid*100} % \")"
      ]
    },
    {
      "attachments": {},
      "cell_type": "markdown",
      "metadata": {
        "id": "ZdcELUOLHVxR"
      },
      "source": [
        "Train model to solve XOR problem using hyperbolic tangent function"
      ]
    },
    {
      "cell_type": "code",
      "execution_count": 119,
      "metadata": {
        "colab": {
          "base_uri": "https://localhost:8080/"
        },
        "id": "P52e8X7aLwRO",
        "outputId": "d200d623-e9ff-433d-fca6-ad56a6115b76"
      },
      "outputs": [
        {
          "name": "stdout",
          "output_type": "stream",
          "text": [
            "Accuracy of XOR using hyperbolic tangent: 33.33333333333333 % \n"
          ]
        }
      ],
      "source": [
        "# Train the model using hyperbolic tangent  activation\n",
        "model2 = Sequential([linear1,HyperbolicTan1,linear2,HyperbolicTan2])\n",
        "loss_fn = CrossEntropyLoss()\n",
        "epochs = 10000\n",
        "l_loss = []\n",
        "for epoch in range(epochs):\n",
        "    # Forward pass\n",
        "    output = model2.forward(X_train)\n",
        "\n",
        "    loss = loss_fn.forward(Y_train,output)#loss in forward pass using cross entropy loss\n",
        "    l_loss.append(loss)\n",
        "    # Backward pass\n",
        "    grad_output = loss_fn.backward(alpha)# gradient in backward pass using cross entropy\n",
        "    model2.backward(grad_output,alpha)\n",
        "\n",
        "\n",
        "# Verify the model\n",
        "Y_pred = model2.forward(X_train)\n",
        "Y_pred = np.round(Y_pred).flatten()\n",
        "accuracy_hyper = accuracy_score(Y_train, Y_pred)\n",
        "\n",
        "print(f\"Accuracy of XOR using hyperbolic tangent: {accuracy_hyper*100} % \")\n"
      ]
    },
    {
      "cell_type": "markdown",
      "metadata": {
        "id": "-KILA2AWiM8o"
      },
      "source": [
        "Accuracy using Sigmoid for solving XOR problem  is 100% and weights are saved in a file \"XOR_solved.pkl\" and loaded"
      ]
    },
    {
      "cell_type": "code",
      "execution_count": 120,
      "metadata": {
        "id": "B9wxmBSVYyQb"
      },
      "outputs": [],
      "source": [
        "import tensorflow as tf #used for loading mnist data\n",
        "from sklearn.model_selection import train_test_split\n",
        "from keras.datasets import mnist\n",
        "from keras.utils import np_utils\n",
        "\n",
        "\n",
        "# Load MNIST dataset\n",
        "(x_train, y_train), (x_test, y_test) = mnist.load_data()\n",
        "\n",
        "# Split training data into training and validation sets\n",
        "x_train, x_val, y_train, y_val = train_test_split(x_train, y_train, test_size=0.1)\n",
        "\n",
        "\n",
        "x_train = x_train.reshape(x_train.shape[0], -1) \n",
        "x_test = x_test.reshape(x_test.shape[0], -1)\n",
        "x_val = x_val.reshape(x_val.shape[0], -1)\n",
        "# Normalize pixel values\n",
        "x_train = x_train.astype('float32') / 255.0\n",
        "x_val = x_val.astype('float32') / 255.0\n",
        "x_test = x_test.astype('float32') / 255.0"
      ]
    },
    {
      "attachments": {},
      "cell_type": "markdown",
      "metadata": {
        "id": "pgr1WQqYhpYa"
      },
      "source": [
        "MNIST model with 2 Linear layers and with sigmoid activation function after each layer with epochs=100 and learning rate 0.001"
      ]
    },
    {
      "cell_type": "code",
      "execution_count": 121,
      "metadata": {
        "colab": {
          "base_uri": "https://localhost:8080/",
          "height": 676
        },
        "id": "qjXHbH1WWxew",
        "outputId": "ea953fc6-657e-49ff-f45e-1d2ee16e5821"
      },
      "outputs": [
        {
          "name": "stdout",
          "output_type": "stream",
          "text": [
            "Accuracy MNIST Model1: 9.8 % \n"
          ]
        },
        {
          "data": {
            "image/png": "[encoded data removed]",
            "text/plain": [
              "<Figure size 700x700 with 1 Axes>"
            ]
          },
          "metadata": {},
          "output_type": "display_data"
        }
      ],
      "source": [
        "model_mnist1 = Sequential([Linear(784,200),Sigmoid(),Linear(200,10),Sigmoid()])\n",
        "# Train the model using sigmoid  activation\n",
        "loss_fn_mnist = CrossEntropyLoss()\n",
        "alpha = 0.1\n",
        "epochs = 100\n",
        "patience = 5\n",
        "l_loss = []\n",
        "l_mseloss = []\n",
        "l_epochs = []\n",
        "best_train_loss = float(\"inf\")\n",
        "best_val_loss = float(\"inf\")\n",
        "for epoch in range(epochs):\n",
        "    # Forward pass\n",
        "    output = model_mnist1.forward(x_train)\n",
        "    loss_mnist = loss_fn_mnist.forward(y_train,output.T)#loss in forward pass using cross entropy loss\n",
        "    # # Backward pass\n",
        "    grad_output_mnist = loss_fn_mnist.backward(alpha)# gradient in backward pass using cross entropy\n",
        "    model_mnist1.backward(grad_output_mnist.T,alpha)\n",
        "    val_output = model_mnist1.forward(x_val)\n",
        "    val_mse = loss_fn_mnist.forward(y_val,val_output.T)\n",
        "\n",
        "    if val_mse < best_val_loss:\n",
        "      best_val_loss = val_mse\n",
        "      count = 0\n",
        "    else:\n",
        "      count += 1\n",
        "\n",
        "    if count == patience:\n",
        "      break\n",
        "    l_mseloss.append(val_mse)\n",
        "    l_loss.append(loss_mnist)\n",
        "    l_epochs.append(epoch)\n",
        "\n",
        "y_pred_test = model_mnist1.forward(x_test)\n",
        "ypred_labels = np.argmax(y_pred_test, axis=1)\n",
        "accuracy_MNIST= accuracy_score(y_test, ypred_labels)\n",
        "print(f\"Accuracy MNIST Model1: {accuracy_MNIST*100} % \")\n",
        "\n",
        "plt.figure(figsize=(7, 7))\n",
        "plt.plot(l_epochs, l_loss, label='Training Loss')\n",
        "plt.plot(l_epochs, l_mseloss, label='Validation Loss')\n",
        "plt.scatter(l_epochs, l_loss)\n",
        "plt.scatter(l_epochs, l_mseloss)\n",
        "plt.xlabel('Steps', fontsize=14)\n",
        "plt.ylabel('Loss', fontsize=14)\n",
        "plt.legend(fontsize=14)\n",
        "plt.show()\n"
      ]
    },
    {
      "attachments": {},
      "cell_type": "markdown",
      "metadata": {},
      "source": [
        "MNIST model with 3 Linear layers and with hyperbolictan activation function after each layer with epochs=100 and learning rate=1"
      ]
    },
    {
      "cell_type": "code",
      "execution_count": 122,
      "metadata": {
        "id": "RKKsHWRMEYwg"
      },
      "outputs": [
        {
          "name": "stdout",
          "output_type": "stream",
          "text": [
            "Accuracy MNIST Model2: 10.15 % \n"
          ]
        },
        {
          "data": {
            "image/png": "[encoded data removed]",
            "text/plain": [
              "<Figure size 700x700 with 1 Axes>"
            ]
          },
          "metadata": {},
          "output_type": "display_data"
        }
      ],
      "source": [
        "linear_mnist3 = Linear(784,66)\n",
        "hp_mnist3 = HyperbolicTan()\n",
        "linear_mnist4 = Linear(66,20)\n",
        "hp_mnist4 = HyperbolicTan()\n",
        "linear_mnist5 = Linear(20,10)\n",
        "hp_mnist5 = HyperbolicTan()\n",
        "\n",
        "model_mnist2 = Sequential([linear_mnist3,hp_mnist3,linear_mnist4,hp_mnist4,linear_mnist5,hp_mnist5])\n",
        "\n",
        "# Train the model using sigmoid  activation\n",
        "loss_fn_mnist = CrossEntropyLoss()\n",
        "alpha = 1\n",
        "epochs = 100\n",
        "patience = 5\n",
        "l_loss = []\n",
        "l_mseloss = []\n",
        "l_epochs = []\n",
        "best_train_loss = float(\"inf\")\n",
        "best_val_loss = float(\"inf\")\n",
        "for epoch in range(epochs):\n",
        "    # Forward pass\n",
        "    output = model_mnist2.forward(x_train)\n",
        "    loss_mnist = loss_fn_mnist.forward(y_train,output.T)#loss in forward pass using cross entropy loss\n",
        "    # # Backward pass\n",
        "    grad_output_mnist = loss_fn_mnist.backward(alpha)# gradient in backward pass using cross entropy\n",
        "    model_mnist2.backward(grad_output_mnist.T,alpha)\n",
        "    val_output = model_mnist2.forward(x_val)\n",
        "    val_mse = loss_fn_mnist.forward(y_val,val_output.T)\n",
        "\n",
        "    if val_mse < best_val_loss:\n",
        "      best_val_loss = val_mse\n",
        "      count = 0\n",
        "    else:\n",
        "      count += 1\n",
        "\n",
        "    if count == patience:\n",
        "      break\n",
        "    l_mseloss.append(val_mse)\n",
        "    l_loss.append(loss_mnist)\n",
        "    l_epochs.append(epoch)\n",
        "\n",
        "y_pred_test = model_mnist2.forward(x_test)\n",
        "ypred_labels = np.argmax(y_pred_test, axis=1)\n",
        "accuracy_MNIST1= accuracy_score(y_test, ypred_labels)\n",
        "print(f\"Accuracy MNIST Model2: {accuracy_MNIST1*100} % \")\n",
        "\n",
        "plt.figure(figsize=(7, 7))\n",
        "plt.plot(l_epochs, l_loss, label='Training Loss')\n",
        "plt.plot(l_epochs, l_mseloss, label='Validation Loss')\n",
        "plt.scatter(l_epochs, l_loss)\n",
        "plt.scatter(l_epochs, l_mseloss)\n",
        "plt.xlabel('Steps', fontsize=14)\n",
        "plt.ylabel('Loss', fontsize=14)\n",
        "plt.legend(fontsize=14)\n",
        "plt.show()\n",
        "\n"
      ]
    },
    {
      "attachments": {},
      "cell_type": "markdown",
      "metadata": {},
      "source": [
        "MNIST model with 2 Linear layers and with hyperbolictan activation function after each layer with epochs=100 and learning rate=0.01"
      ]
    },
    {
      "cell_type": "code",
      "execution_count": 123,
      "metadata": {
        "id": "HNc1z8K_FnZc"
      },
      "outputs": [
        {
          "name": "stdout",
          "output_type": "stream",
          "text": [
            "Accuracy MNIST Model3: 3.53 % \n"
          ]
        },
        {
          "data": {
            "image/png": "[encoded data removed]",
            "text/plain": [
              "<Figure size 700x700 with 1 Axes>"
            ]
          },
          "metadata": {},
          "output_type": "display_data"
        }
      ],
      "source": [
        "linear_mnist6 = Linear(784,100)\n",
        "hp_mnist6 = HyperbolicTan()\n",
        "linear_mnist7 = Linear(100,10)\n",
        "hp_mnist7 = HyperbolicTan()\n",
        "\n",
        "model_mnist3 = Sequential([linear_mnist6,hp_mnist6,linear_mnist7,hp_mnist7])\n",
        "\n",
        "loss_fn_mnist = CrossEntropyLoss()\n",
        "alpha = 0.01\n",
        "epochs = 100\n",
        "patience = 5\n",
        "l_loss = []\n",
        "l_mseloss = []\n",
        "l_epochs = []\n",
        "\n",
        "best_val_loss = float(\"inf\")\n",
        "for epoch in range(epochs):\n",
        "    # Forward pass\n",
        "    output = model_mnist3.forward(x_train)\n",
        "    loss_mnist = loss_fn_mnist.forward(y_train,output.T)#loss in forward pass using cross entropy loss\n",
        "    # # Backward pass\n",
        "    grad_output_mnist = loss_fn_mnist.backward(alpha)# gradient in backward pass using cross entropy\n",
        "    model_mnist3.backward(grad_output_mnist.T,alpha)\n",
        "    val_output = model_mnist3.forward(x_val)\n",
        "    val_mse = loss_fn_mnist.forward(y_val,val_output.T)\n",
        "\n",
        "    if val_mse < best_val_loss:\n",
        "      best_val_loss = val_mse\n",
        "      count = 0\n",
        "    else:\n",
        "      count += 1\n",
        "\n",
        "    if count == patience:\n",
        "      break\n",
        "    l_mseloss.append(val_mse)\n",
        "    l_loss.append(loss_mnist)\n",
        "    l_epochs.append(epoch)\n",
        "\n",
        "y_pred_test = model_mnist3.forward(x_test)\n",
        "ypred_labels = np.argmax(y_pred_test, axis=1)\n",
        "accuracy_MNIST3= accuracy_score(y_test, ypred_labels)\n",
        "print(f\"Accuracy MNIST Model3: {accuracy_MNIST3*100} % \")\n",
        "\n",
        "plt.figure(figsize=(7, 7))\n",
        "plt.plot(l_epochs, l_loss, label='Training Loss')\n",
        "plt.plot(l_epochs, l_mseloss, label='Validation Loss')\n",
        "plt.scatter(l_epochs, l_loss)\n",
        "plt.scatter(l_epochs, l_mseloss)\n",
        "plt.xlabel('Steps', fontsize=14)\n",
        "plt.ylabel('Loss', fontsize=14)\n",
        "plt.legend(fontsize=14)\n",
        "plt.show()\n"
      ]
    }
  ],
  "metadata": {
    "colab": {
      "provenance": []
    },
    "kernelspec": {
      "display_name": "Python 3",
      "language": "python",
      "name": "python3"
    },
    "language_info": {
      "codemirror_mode": {
        "name": "ipython",
        "version": 3
      },
      "file_extension": ".py",
      "mimetype": "text/x-python",
      "name": "python",
      "nbconvert_exporter": "python",
      "pygments_lexer": "ipython3",
      "version": "3.11.2"
    },
    "vscode": {
      "interpreter": {
        "hash": "aee8b7b246df8f9039afb4144a1f6fd8d2ca17a180786b69acc140d282b71a49"
      }
    }
  },
  "nbformat": 4,
  "nbformat_minor": 0
}
